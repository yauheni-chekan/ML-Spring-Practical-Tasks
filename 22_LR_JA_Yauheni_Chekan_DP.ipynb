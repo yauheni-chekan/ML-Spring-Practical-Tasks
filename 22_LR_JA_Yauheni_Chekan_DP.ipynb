{
 "cells": [
  {
   "cell_type": "markdown",
   "id": "edd14487",
   "metadata": {},
   "source": [
    "## Data preparation HW\n",
    "### Group: 22_LR_JA\n",
    "### Author: Yauheni Chekan"
   ]
  },
  {
   "cell_type": "code",
   "execution_count": 98,
   "id": "13e29a13-8c66-4e6f-b4f3-3f059fd66ffc",
   "metadata": {},
   "outputs": [],
   "source": [
    "import warnings\n",
    "\n",
    "import pandas as pd\n",
    "from sklearn.preprocessing import MinMaxScaler, RobustScaler\n",
    "\n",
    "pd.set_option(\"display.float_format\", \"{:.4f}\".format)\n",
    "\n",
    "warnings.filterwarnings(\"ignore\")"
   ]
  },
  {
   "cell_type": "code",
   "execution_count": 99,
   "id": "37f36186-9fe0-4b0c-bcfc-be6645d9b1a6",
   "metadata": {},
   "outputs": [],
   "source": [
    "df = pd.read_csv(\"datasets/Building_Permits.csv\")"
   ]
  },
  {
   "cell_type": "code",
   "execution_count": 100,
   "id": "f35ccde3-dbdd-42c8-9382-7dc2b2d37ed6",
   "metadata": {},
   "outputs": [
    {
     "data": {
      "text/html": [
       "<div>\n",
       "<style scoped>\n",
       "    .dataframe tbody tr th:only-of-type {\n",
       "        vertical-align: middle;\n",
       "    }\n",
       "\n",
       "    .dataframe tbody tr th {\n",
       "        vertical-align: top;\n",
       "    }\n",
       "\n",
       "    .dataframe thead th {\n",
       "        text-align: right;\n",
       "    }\n",
       "</style>\n",
       "<table border=\"1\" class=\"dataframe\">\n",
       "  <thead>\n",
       "    <tr style=\"text-align: right;\">\n",
       "      <th></th>\n",
       "      <th>Permit Number</th>\n",
       "      <th>Permit Type</th>\n",
       "      <th>Permit Type Definition</th>\n",
       "      <th>Permit Creation Date</th>\n",
       "      <th>Block</th>\n",
       "      <th>Lot</th>\n",
       "      <th>Street Number</th>\n",
       "      <th>Street Number Suffix</th>\n",
       "      <th>Street Name</th>\n",
       "      <th>Street Suffix</th>\n",
       "      <th>...</th>\n",
       "      <th>Existing Construction Type</th>\n",
       "      <th>Existing Construction Type Description</th>\n",
       "      <th>Proposed Construction Type</th>\n",
       "      <th>Proposed Construction Type Description</th>\n",
       "      <th>Site Permit</th>\n",
       "      <th>Supervisor District</th>\n",
       "      <th>Neighborhoods - Analysis Boundaries</th>\n",
       "      <th>Zipcode</th>\n",
       "      <th>Location</th>\n",
       "      <th>Record ID</th>\n",
       "    </tr>\n",
       "  </thead>\n",
       "  <tbody>\n",
       "    <tr>\n",
       "      <th>0</th>\n",
       "      <td>201505065519</td>\n",
       "      <td>4</td>\n",
       "      <td>sign - erect</td>\n",
       "      <td>05/06/2015</td>\n",
       "      <td>0326</td>\n",
       "      <td>023</td>\n",
       "      <td>140</td>\n",
       "      <td>NaN</td>\n",
       "      <td>Ellis</td>\n",
       "      <td>St</td>\n",
       "      <td>...</td>\n",
       "      <td>3.0000</td>\n",
       "      <td>constr type 3</td>\n",
       "      <td>NaN</td>\n",
       "      <td>NaN</td>\n",
       "      <td>NaN</td>\n",
       "      <td>3.0000</td>\n",
       "      <td>Tenderloin</td>\n",
       "      <td>94102.0000</td>\n",
       "      <td>(37.785719256680785, -122.40852313194863)</td>\n",
       "      <td>1380611233945</td>\n",
       "    </tr>\n",
       "    <tr>\n",
       "      <th>1</th>\n",
       "      <td>201604195146</td>\n",
       "      <td>4</td>\n",
       "      <td>sign - erect</td>\n",
       "      <td>04/19/2016</td>\n",
       "      <td>0306</td>\n",
       "      <td>007</td>\n",
       "      <td>440</td>\n",
       "      <td>NaN</td>\n",
       "      <td>Geary</td>\n",
       "      <td>St</td>\n",
       "      <td>...</td>\n",
       "      <td>3.0000</td>\n",
       "      <td>constr type 3</td>\n",
       "      <td>NaN</td>\n",
       "      <td>NaN</td>\n",
       "      <td>NaN</td>\n",
       "      <td>3.0000</td>\n",
       "      <td>Tenderloin</td>\n",
       "      <td>94102.0000</td>\n",
       "      <td>(37.78733980600732, -122.41063199757738)</td>\n",
       "      <td>1420164406718</td>\n",
       "    </tr>\n",
       "    <tr>\n",
       "      <th>2</th>\n",
       "      <td>201605278609</td>\n",
       "      <td>3</td>\n",
       "      <td>additions alterations or repairs</td>\n",
       "      <td>05/27/2016</td>\n",
       "      <td>0595</td>\n",
       "      <td>203</td>\n",
       "      <td>1647</td>\n",
       "      <td>NaN</td>\n",
       "      <td>Pacific</td>\n",
       "      <td>Av</td>\n",
       "      <td>...</td>\n",
       "      <td>1.0000</td>\n",
       "      <td>constr type 1</td>\n",
       "      <td>1.0000</td>\n",
       "      <td>constr type 1</td>\n",
       "      <td>NaN</td>\n",
       "      <td>3.0000</td>\n",
       "      <td>Russian Hill</td>\n",
       "      <td>94109.0000</td>\n",
       "      <td>(37.7946573324287, -122.42232562979227)</td>\n",
       "      <td>1424856504716</td>\n",
       "    </tr>\n",
       "    <tr>\n",
       "      <th>3</th>\n",
       "      <td>201611072166</td>\n",
       "      <td>8</td>\n",
       "      <td>otc alterations permit</td>\n",
       "      <td>11/07/2016</td>\n",
       "      <td>0156</td>\n",
       "      <td>011</td>\n",
       "      <td>1230</td>\n",
       "      <td>NaN</td>\n",
       "      <td>Pacific</td>\n",
       "      <td>Av</td>\n",
       "      <td>...</td>\n",
       "      <td>5.0000</td>\n",
       "      <td>wood frame (5)</td>\n",
       "      <td>5.0000</td>\n",
       "      <td>wood frame (5)</td>\n",
       "      <td>NaN</td>\n",
       "      <td>3.0000</td>\n",
       "      <td>Nob Hill</td>\n",
       "      <td>94109.0000</td>\n",
       "      <td>(37.79595867909168, -122.41557405519474)</td>\n",
       "      <td>1443574295566</td>\n",
       "    </tr>\n",
       "    <tr>\n",
       "      <th>4</th>\n",
       "      <td>201611283529</td>\n",
       "      <td>6</td>\n",
       "      <td>demolitions</td>\n",
       "      <td>11/28/2016</td>\n",
       "      <td>0342</td>\n",
       "      <td>001</td>\n",
       "      <td>950</td>\n",
       "      <td>NaN</td>\n",
       "      <td>Market</td>\n",
       "      <td>St</td>\n",
       "      <td>...</td>\n",
       "      <td>3.0000</td>\n",
       "      <td>constr type 3</td>\n",
       "      <td>NaN</td>\n",
       "      <td>NaN</td>\n",
       "      <td>NaN</td>\n",
       "      <td>6.0000</td>\n",
       "      <td>Tenderloin</td>\n",
       "      <td>94102.0000</td>\n",
       "      <td>(37.78315261897309, -122.40950883997789)</td>\n",
       "      <td>144548169992</td>\n",
       "    </tr>\n",
       "  </tbody>\n",
       "</table>\n",
       "<p>5 rows × 43 columns</p>\n",
       "</div>"
      ],
      "text/plain": [
       "  Permit Number  Permit Type            Permit Type Definition  \\\n",
       "0  201505065519            4                      sign - erect   \n",
       "1  201604195146            4                      sign - erect   \n",
       "2  201605278609            3  additions alterations or repairs   \n",
       "3  201611072166            8            otc alterations permit   \n",
       "4  201611283529            6                       demolitions   \n",
       "\n",
       "  Permit Creation Date Block  Lot  Street Number Street Number Suffix  \\\n",
       "0           05/06/2015  0326  023            140                  NaN   \n",
       "1           04/19/2016  0306  007            440                  NaN   \n",
       "2           05/27/2016  0595  203           1647                  NaN   \n",
       "3           11/07/2016  0156  011           1230                  NaN   \n",
       "4           11/28/2016  0342  001            950                  NaN   \n",
       "\n",
       "  Street Name Street Suffix  ...  Existing Construction Type  \\\n",
       "0       Ellis            St  ...                      3.0000   \n",
       "1       Geary            St  ...                      3.0000   \n",
       "2     Pacific            Av  ...                      1.0000   \n",
       "3     Pacific            Av  ...                      5.0000   \n",
       "4      Market            St  ...                      3.0000   \n",
       "\n",
       "  Existing Construction Type Description Proposed Construction Type  \\\n",
       "0                          constr type 3                        NaN   \n",
       "1                          constr type 3                        NaN   \n",
       "2                          constr type 1                     1.0000   \n",
       "3                         wood frame (5)                     5.0000   \n",
       "4                          constr type 3                        NaN   \n",
       "\n",
       "  Proposed Construction Type Description Site Permit Supervisor District  \\\n",
       "0                                    NaN         NaN              3.0000   \n",
       "1                                    NaN         NaN              3.0000   \n",
       "2                          constr type 1         NaN              3.0000   \n",
       "3                         wood frame (5)         NaN              3.0000   \n",
       "4                                    NaN         NaN              6.0000   \n",
       "\n",
       "  Neighborhoods - Analysis Boundaries    Zipcode  \\\n",
       "0                          Tenderloin 94102.0000   \n",
       "1                          Tenderloin 94102.0000   \n",
       "2                        Russian Hill 94109.0000   \n",
       "3                            Nob Hill 94109.0000   \n",
       "4                          Tenderloin 94102.0000   \n",
       "\n",
       "                                    Location      Record ID  \n",
       "0  (37.785719256680785, -122.40852313194863)  1380611233945  \n",
       "1   (37.78733980600732, -122.41063199757738)  1420164406718  \n",
       "2    (37.7946573324287, -122.42232562979227)  1424856504716  \n",
       "3   (37.79595867909168, -122.41557405519474)  1443574295566  \n",
       "4   (37.78315261897309, -122.40950883997789)   144548169992  \n",
       "\n",
       "[5 rows x 43 columns]"
      ]
     },
     "execution_count": 100,
     "metadata": {},
     "output_type": "execute_result"
    }
   ],
   "source": [
    "df.head(5)"
   ]
  },
  {
   "cell_type": "markdown",
   "id": "1cd7715e",
   "metadata": {},
   "source": [
    "### Describe the dataframe:"
   ]
  },
  {
   "cell_type": "code",
   "execution_count": 101,
   "id": "14ee95d6",
   "metadata": {},
   "outputs": [
    {
     "data": {
      "text/html": [
       "<div>\n",
       "<style scoped>\n",
       "    .dataframe tbody tr th:only-of-type {\n",
       "        vertical-align: middle;\n",
       "    }\n",
       "\n",
       "    .dataframe tbody tr th {\n",
       "        vertical-align: top;\n",
       "    }\n",
       "\n",
       "    .dataframe thead th {\n",
       "        text-align: right;\n",
       "    }\n",
       "</style>\n",
       "<table border=\"1\" class=\"dataframe\">\n",
       "  <thead>\n",
       "    <tr style=\"text-align: right;\">\n",
       "      <th></th>\n",
       "      <th>count</th>\n",
       "      <th>mean</th>\n",
       "      <th>std</th>\n",
       "      <th>min</th>\n",
       "      <th>25%</th>\n",
       "      <th>50%</th>\n",
       "      <th>75%</th>\n",
       "      <th>max</th>\n",
       "    </tr>\n",
       "  </thead>\n",
       "  <tbody>\n",
       "    <tr>\n",
       "      <th>Permit Type</th>\n",
       "      <td>198900.0000</td>\n",
       "      <td>7.5223</td>\n",
       "      <td>1.4575</td>\n",
       "      <td>1.0000</td>\n",
       "      <td>8.0000</td>\n",
       "      <td>8.0000</td>\n",
       "      <td>8.0000</td>\n",
       "      <td>8.0000</td>\n",
       "    </tr>\n",
       "    <tr>\n",
       "      <th>Street Number</th>\n",
       "      <td>198900.0000</td>\n",
       "      <td>1121.7289</td>\n",
       "      <td>1135.7689</td>\n",
       "      <td>0.0000</td>\n",
       "      <td>235.0000</td>\n",
       "      <td>710.0000</td>\n",
       "      <td>1700.0000</td>\n",
       "      <td>8400.0000</td>\n",
       "    </tr>\n",
       "    <tr>\n",
       "      <th>Unit</th>\n",
       "      <td>29479.0000</td>\n",
       "      <td>78.5172</td>\n",
       "      <td>326.9813</td>\n",
       "      <td>0.0000</td>\n",
       "      <td>0.0000</td>\n",
       "      <td>0.0000</td>\n",
       "      <td>1.0000</td>\n",
       "      <td>6004.0000</td>\n",
       "    </tr>\n",
       "    <tr>\n",
       "      <th>Number of Existing Stories</th>\n",
       "      <td>156116.0000</td>\n",
       "      <td>5.7058</td>\n",
       "      <td>8.6135</td>\n",
       "      <td>0.0000</td>\n",
       "      <td>2.0000</td>\n",
       "      <td>3.0000</td>\n",
       "      <td>4.0000</td>\n",
       "      <td>78.0000</td>\n",
       "    </tr>\n",
       "    <tr>\n",
       "      <th>Number of Proposed Stories</th>\n",
       "      <td>156032.0000</td>\n",
       "      <td>5.7450</td>\n",
       "      <td>8.6133</td>\n",
       "      <td>0.0000</td>\n",
       "      <td>2.0000</td>\n",
       "      <td>3.0000</td>\n",
       "      <td>4.0000</td>\n",
       "      <td>78.0000</td>\n",
       "    </tr>\n",
       "    <tr>\n",
       "      <th>Estimated Cost</th>\n",
       "      <td>160834.0000</td>\n",
       "      <td>168955.4433</td>\n",
       "      <td>3630385.9537</td>\n",
       "      <td>1.0000</td>\n",
       "      <td>3300.0000</td>\n",
       "      <td>11000.0000</td>\n",
       "      <td>35000.0000</td>\n",
       "      <td>537958646.0000</td>\n",
       "    </tr>\n",
       "    <tr>\n",
       "      <th>Revised Cost</th>\n",
       "      <td>192834.0000</td>\n",
       "      <td>132856.1865</td>\n",
       "      <td>3584902.5920</td>\n",
       "      <td>0.0000</td>\n",
       "      <td>1.0000</td>\n",
       "      <td>7000.0000</td>\n",
       "      <td>28707.5000</td>\n",
       "      <td>780500000.0000</td>\n",
       "    </tr>\n",
       "    <tr>\n",
       "      <th>Existing Units</th>\n",
       "      <td>147362.0000</td>\n",
       "      <td>15.6662</td>\n",
       "      <td>74.4763</td>\n",
       "      <td>0.0000</td>\n",
       "      <td>1.0000</td>\n",
       "      <td>1.0000</td>\n",
       "      <td>4.0000</td>\n",
       "      <td>1907.0000</td>\n",
       "    </tr>\n",
       "    <tr>\n",
       "      <th>Proposed Units</th>\n",
       "      <td>147989.0000</td>\n",
       "      <td>16.5110</td>\n",
       "      <td>75.2204</td>\n",
       "      <td>0.0000</td>\n",
       "      <td>1.0000</td>\n",
       "      <td>2.0000</td>\n",
       "      <td>4.0000</td>\n",
       "      <td>1911.0000</td>\n",
       "    </tr>\n",
       "    <tr>\n",
       "      <th>Plansets</th>\n",
       "      <td>161591.0000</td>\n",
       "      <td>1.2747</td>\n",
       "      <td>22.4073</td>\n",
       "      <td>0.0000</td>\n",
       "      <td>0.0000</td>\n",
       "      <td>2.0000</td>\n",
       "      <td>2.0000</td>\n",
       "      <td>9000.0000</td>\n",
       "    </tr>\n",
       "    <tr>\n",
       "      <th>Existing Construction Type</th>\n",
       "      <td>155534.0000</td>\n",
       "      <td>4.0729</td>\n",
       "      <td>1.5858</td>\n",
       "      <td>1.0000</td>\n",
       "      <td>3.0000</td>\n",
       "      <td>5.0000</td>\n",
       "      <td>5.0000</td>\n",
       "      <td>5.0000</td>\n",
       "    </tr>\n",
       "    <tr>\n",
       "      <th>Proposed Construction Type</th>\n",
       "      <td>155738.0000</td>\n",
       "      <td>4.0895</td>\n",
       "      <td>1.5788</td>\n",
       "      <td>1.0000</td>\n",
       "      <td>3.0000</td>\n",
       "      <td>5.0000</td>\n",
       "      <td>5.0000</td>\n",
       "      <td>5.0000</td>\n",
       "    </tr>\n",
       "    <tr>\n",
       "      <th>Supervisor District</th>\n",
       "      <td>197183.0000</td>\n",
       "      <td>5.5384</td>\n",
       "      <td>2.8870</td>\n",
       "      <td>1.0000</td>\n",
       "      <td>3.0000</td>\n",
       "      <td>6.0000</td>\n",
       "      <td>8.0000</td>\n",
       "      <td>11.0000</td>\n",
       "    </tr>\n",
       "    <tr>\n",
       "      <th>Zipcode</th>\n",
       "      <td>197184.0000</td>\n",
       "      <td>94115.5006</td>\n",
       "      <td>9.2701</td>\n",
       "      <td>94102.0000</td>\n",
       "      <td>94109.0000</td>\n",
       "      <td>94114.0000</td>\n",
       "      <td>94122.0000</td>\n",
       "      <td>94158.0000</td>\n",
       "    </tr>\n",
       "    <tr>\n",
       "      <th>Record ID</th>\n",
       "      <td>198900.0000</td>\n",
       "      <td>1162047577771.6997</td>\n",
       "      <td>491821537303.4352</td>\n",
       "      <td>12935321500.0000</td>\n",
       "      <td>1308566734866.2500</td>\n",
       "      <td>1371839772769.5000</td>\n",
       "      <td>1434999616362.5000</td>\n",
       "      <td>1498342127659.0000</td>\n",
       "    </tr>\n",
       "  </tbody>\n",
       "</table>\n",
       "</div>"
      ],
      "text/plain": [
       "                                 count               mean               std  \\\n",
       "Permit Type                198900.0000             7.5223            1.4575   \n",
       "Street Number              198900.0000          1121.7289         1135.7689   \n",
       "Unit                        29479.0000            78.5172          326.9813   \n",
       "Number of Existing Stories 156116.0000             5.7058            8.6135   \n",
       "Number of Proposed Stories 156032.0000             5.7450            8.6133   \n",
       "Estimated Cost             160834.0000        168955.4433      3630385.9537   \n",
       "Revised Cost               192834.0000        132856.1865      3584902.5920   \n",
       "Existing Units             147362.0000            15.6662           74.4763   \n",
       "Proposed Units             147989.0000            16.5110           75.2204   \n",
       "Plansets                   161591.0000             1.2747           22.4073   \n",
       "Existing Construction Type 155534.0000             4.0729            1.5858   \n",
       "Proposed Construction Type 155738.0000             4.0895            1.5788   \n",
       "Supervisor District        197183.0000             5.5384            2.8870   \n",
       "Zipcode                    197184.0000         94115.5006            9.2701   \n",
       "Record ID                  198900.0000 1162047577771.6997 491821537303.4352   \n",
       "\n",
       "                                        min                25%  \\\n",
       "Permit Type                          1.0000             8.0000   \n",
       "Street Number                        0.0000           235.0000   \n",
       "Unit                                 0.0000             0.0000   \n",
       "Number of Existing Stories           0.0000             2.0000   \n",
       "Number of Proposed Stories           0.0000             2.0000   \n",
       "Estimated Cost                       1.0000          3300.0000   \n",
       "Revised Cost                         0.0000             1.0000   \n",
       "Existing Units                       0.0000             1.0000   \n",
       "Proposed Units                       0.0000             1.0000   \n",
       "Plansets                             0.0000             0.0000   \n",
       "Existing Construction Type           1.0000             3.0000   \n",
       "Proposed Construction Type           1.0000             3.0000   \n",
       "Supervisor District                  1.0000             3.0000   \n",
       "Zipcode                          94102.0000         94109.0000   \n",
       "Record ID                  12935321500.0000 1308566734866.2500   \n",
       "\n",
       "                                          50%                75%  \\\n",
       "Permit Type                            8.0000             8.0000   \n",
       "Street Number                        710.0000          1700.0000   \n",
       "Unit                                   0.0000             1.0000   \n",
       "Number of Existing Stories             3.0000             4.0000   \n",
       "Number of Proposed Stories             3.0000             4.0000   \n",
       "Estimated Cost                     11000.0000         35000.0000   \n",
       "Revised Cost                        7000.0000         28707.5000   \n",
       "Existing Units                         1.0000             4.0000   \n",
       "Proposed Units                         2.0000             4.0000   \n",
       "Plansets                               2.0000             2.0000   \n",
       "Existing Construction Type             5.0000             5.0000   \n",
       "Proposed Construction Type             5.0000             5.0000   \n",
       "Supervisor District                    6.0000             8.0000   \n",
       "Zipcode                            94114.0000         94122.0000   \n",
       "Record ID                  1371839772769.5000 1434999616362.5000   \n",
       "\n",
       "                                          max  \n",
       "Permit Type                            8.0000  \n",
       "Street Number                       8400.0000  \n",
       "Unit                                6004.0000  \n",
       "Number of Existing Stories            78.0000  \n",
       "Number of Proposed Stories            78.0000  \n",
       "Estimated Cost                 537958646.0000  \n",
       "Revised Cost                   780500000.0000  \n",
       "Existing Units                      1907.0000  \n",
       "Proposed Units                      1911.0000  \n",
       "Plansets                            9000.0000  \n",
       "Existing Construction Type             5.0000  \n",
       "Proposed Construction Type             5.0000  \n",
       "Supervisor District                   11.0000  \n",
       "Zipcode                            94158.0000  \n",
       "Record ID                  1498342127659.0000  "
      ]
     },
     "execution_count": 101,
     "metadata": {},
     "output_type": "execute_result"
    }
   ],
   "source": [
    "df.describe().T"
   ]
  },
  {
   "cell_type": "markdown",
   "id": "d1877815",
   "metadata": {},
   "source": [
    "### Missing values for \"Existing Use\" column can be populated with the mode.\n",
    "\n",
    "Mode for 'Existing Use' column is `1 family dwelling`"
   ]
  },
  {
   "cell_type": "code",
   "execution_count": 102,
   "id": "be5b4e80-4005-4ffd-a859-88d3a31b0dbe",
   "metadata": {},
   "outputs": [
    {
     "name": "stdout",
     "output_type": "stream",
     "text": [
      "Mode for 'Existing Use' column: '1 family dwelling'\n"
     ]
    }
   ],
   "source": [
    "print(f\"Mode for 'Existing Use' column: '{df['Existing Use'].mode().to_numpy()[0]}'\")\n"
   ]
  },
  {
   "cell_type": "markdown",
   "id": "6f17b792",
   "metadata": {},
   "source": [
    "### Define the amount of missing values in \"Current Status\" field:\n",
    "\n",
    "Amount of missing values in 'Current Status' field: 0 (0.00%)"
   ]
  },
  {
   "cell_type": "code",
   "execution_count": 103,
   "id": "79cecf53",
   "metadata": {},
   "outputs": [
    {
     "name": "stdout",
     "output_type": "stream",
     "text": [
      "Amount of missing values in 'Current Status' field: 0 (0.00%)\n"
     ]
    }
   ],
   "source": [
    "missing_values = df[\"Current Status\"].isna().sum()\n",
    "missing_percentage = (missing_values / len(df)) * 100\n",
    "print(f\"Amount of missing values in 'Current Status' field: {missing_values} ({missing_percentage:.2f}%)\")\n"
   ]
  },
  {
   "cell_type": "markdown",
   "id": "c1b777af",
   "metadata": {},
   "source": [
    "### Boxplot can be constructed for a numerical feature.\n",
    "\n",
    "Features that can be plotted:\n",
    "- \"Revised Cost\": True\n",
    "- \"Proposed Units\": True\n",
    "- \"Existing Construction Type\": True"
   ]
  },
  {
   "cell_type": "code",
   "execution_count": 104,
   "id": "1e0cd883",
   "metadata": {},
   "outputs": [
    {
     "name": "stdout",
     "output_type": "stream",
     "text": [
      "Feature: Revised Cost, Type: float64, Can be plotted: True\n",
      "Feature: Existing Construction Type, Type: float64, Can be plotted: True\n",
      "Feature: Proposed Units, Type: float64, Can be plotted: True\n"
     ]
    }
   ],
   "source": [
    "boxplot_features = [\"Revised Cost\", \"Existing Construction Type\", \"Proposed Units\"]\n",
    "\n",
    "for feature in boxplot_features:\n",
    "    print(f\"Feature: {feature}, Type: {df[feature].dtype}, Can be plotted: {df[feature].dtype == 'float64' or df[feature].dtype == 'int64'}\")"
   ]
  },
  {
   "cell_type": "markdown",
   "id": "08455646",
   "metadata": {},
   "source": [
    "### One-hot encoding can be applied to categorical features with a relatively small number of unique values. (will use 5 as a threshold)\n",
    "\n",
    "Features that can be one-hot encoded:\n",
    "- \"Description\": Can be one-hot encoded: False\n",
    "- \"Street Name\": Can be one-hot encoded: False\n",
    "- \"Existing Construction Type Description\": Can be one-hot encoded: True"
   ]
  },
  {
   "cell_type": "code",
   "execution_count": 105,
   "id": "52e353b8",
   "metadata": {},
   "outputs": [
    {
     "name": "stdout",
     "output_type": "stream",
     "text": [
      "Feature: Description, Unique values: 134272, Can be one-hot encoded: False\n",
      "Feature: Street Name, Unique values: 1704, Can be one-hot encoded: False\n",
      "Feature: Existing Construction Type Description, Unique values: 5, Can be one-hot encoded: True\n"
     ]
    }
   ],
   "source": [
    "ohe_features = [\"Description\", \"Street Name\", \"Existing Construction Type Description\"]\n",
    "\n",
    "for feature in ohe_features:\n",
    "    ohe_thld = 5\n",
    "    unique_values = df[feature].nunique()\n",
    "    print(f\"Feature: {feature}, Unique values: {unique_values}, Can be one-hot encoded: {unique_values <= ohe_thld}\")\n"
   ]
  },
  {
   "cell_type": "markdown",
   "id": "bd11c954",
   "metadata": {},
   "source": [
    "### Missing values for \"Proposed Construction Type\" feature can be filled with median.\n",
    "\n",
    "Median for \"Proposed Construction Type\" is: `5.0`"
   ]
  },
  {
   "cell_type": "code",
   "execution_count": 106,
   "id": "46ea11d9",
   "metadata": {},
   "outputs": [
    {
     "name": "stdout",
     "output_type": "stream",
     "text": [
      "Median value for 'Proposed Construction Type' feature is: 5.0\n"
     ]
    }
   ],
   "source": [
    "median = df[\"Proposed Construction Type\"].median()\n",
    "\n",
    "print(f\"Median value for 'Proposed Construction Type' feature is: {median}\")"
   ]
  },
  {
   "cell_type": "markdown",
   "id": "28ea1d6c",
   "metadata": {},
   "source": [
    "### Let's apply the Robust Scaler to \"Proposed Units\" feature and compare the changes in median value\n",
    "\n",
    "Original median: `2.0`\n",
    "\n",
    "RobustScaler transformed median: `0.0`"
   ]
  },
  {
   "cell_type": "code",
   "execution_count": 107,
   "id": "e3bda41b",
   "metadata": {},
   "outputs": [
    {
     "name": "stdout",
     "output_type": "stream",
     "text": [
      "Original median of 'Proposed Units': 2.0\n",
      "Median after RobustScaler transformation: 0.0\n"
     ]
    }
   ],
   "source": [
    "# Create a RobustScaler instance\n",
    "robust_scaler = RobustScaler()\n",
    "\n",
    "proposed_units = df[\"Proposed Units\"].to_numpy().reshape(-1, 1)\n",
    "proposed_units_scaled = robust_scaler.fit_transform(proposed_units)\n",
    "# Convert back to a pandas Series for easier analysis\n",
    "proposed_units_scaled_series = pd.Series(proposed_units_scaled.flatten())\n",
    "scaled_median = proposed_units_scaled_series.median()\n",
    "\n",
    "print(f\"Original median of 'Proposed Units': {df['Proposed Units'].median()}\")\n",
    "print(f\"Median after RobustScaler transformation: {scaled_median}\")\n",
    "\n"
   ]
  },
  {
   "cell_type": "markdown",
   "id": "abcf436f",
   "metadata": {},
   "source": [
    "### Let's apply the MinMax Scaler to \"Existing Construction Type\" feature and compare the changes in median value\n",
    "\n",
    "Original median: `5.0`\n",
    "\n",
    "MinMaxScaler transformed median: `1.0`"
   ]
  },
  {
   "cell_type": "code",
   "execution_count": 108,
   "id": "ae7df4ad",
   "metadata": {},
   "outputs": [
    {
     "name": "stdout",
     "output_type": "stream",
     "text": [
      "Original median of 'Existing Construction Type': 5.0\n",
      "Median after MinMaxScaler transformation: 1.0\n"
     ]
    }
   ],
   "source": [
    "min_max_scaler = MinMaxScaler()\n",
    "\n",
    "existing_construction_type = df[\"Existing Construction Type\"].to_numpy().reshape(-1, 1)\n",
    "existing_construction_type_scaled = min_max_scaler.fit_transform(existing_construction_type)\n",
    "# Convert back to a pandas Series for easier analysis\n",
    "existing_construction_type_scaled_series = pd.Series(existing_construction_type_scaled.flatten())\n",
    "\n",
    "original_median = df[\"Existing Construction Type\"].median()\n",
    "scaled_median = existing_construction_type_scaled_series.median()\n",
    "\n",
    "print(f\"Original median of 'Existing Construction Type': {original_median}\")\n",
    "print(f\"Median after MinMaxScaler transformation: {scaled_median}\")\n"
   ]
  },
  {
   "cell_type": "markdown",
   "id": "3df5b46c",
   "metadata": {},
   "source": [
    "### \"Street Name\" feature contains `1704` unique values, so it is not good to transform it using OHE method."
   ]
  },
  {
   "cell_type": "code",
   "execution_count": 109,
   "id": "23e0fa1c",
   "metadata": {},
   "outputs": [
    {
     "name": "stdout",
     "output_type": "stream",
     "text": [
      "Number of unique street names: 1704\n"
     ]
    }
   ],
   "source": [
    "unique_street_names = len(df[\"Street Name\"].unique())\n",
    "print(f\"Number of unique street names: {unique_street_names}\")\n"
   ]
  },
  {
   "cell_type": "markdown",
   "id": "bbd3897e",
   "metadata": {},
   "source": [
    "#### The best strategy for dealing with missing values in \"Street Number Suffix\" column will be completely dropping the column.\n",
    "\n",
    "*Rationale*:\n",
    "- The column has almost no information (only 1.11% of data is present)\n",
    "- Any imputation would be extremely unreliable\n",
    "- The column likely provides very little predictive value\n",
    "- Keeping it would mostly introduce noise"
   ]
  },
  {
   "cell_type": "code",
   "execution_count": 110,
   "id": "706abae1",
   "metadata": {},
   "outputs": [
    {
     "name": "stdout",
     "output_type": "stream",
     "text": [
      "'Street Number Suffix' column has 98.89% of missing data.\n"
     ]
    }
   ],
   "source": [
    "missing_values = df[\"Street Number Suffix\"].isna().sum()\n",
    "missing_percent = (missing_values / len(df)) * 100\n",
    "\n",
    "print(f\"'Street Number Suffix' column has {missing_percent:.2f}% of missing data.\")"
   ]
  },
  {
   "cell_type": "markdown",
   "id": "de2e43fe",
   "metadata": {},
   "source": [
    "#### The \"Existing Use\" feature has 93 unique values which do not seem to have any natural ordering, so we should not apply LabelEncoder to it."
   ]
  },
  {
   "cell_type": "code",
   "execution_count": 111,
   "id": "20bc6ba5",
   "metadata": {},
   "outputs": [
    {
     "name": "stdout",
     "output_type": "stream",
     "text": [
      "['tourist hotel/motel' 'retail sales' '1 family dwelling' 'apartments' nan\n",
      " '2 family dwelling' 'church' 'storage shed' 'office' 'vacant lot'\n",
      " 'food/beverage hndlng' 'residential hotel' 'filling/service stn'\n",
      " 'workshop commercial' 'clinics-medic/dental' 'misc group residns.'\n",
      " 'hospital' 'club' 'barber/beauty salon' 'warehouse,no frnitur' 'school'\n",
      " 'artist live/work' 'manufacturing' 'garment shops' 'public assmbly other'\n",
      " 'auto repairs' 'lending institution' 'museum' 'warehouse, furniture'\n",
      " 'prkng garage/private' 'antenna' 'health studios & gym' 'massage parlor'\n",
      " 'printing plant' 'parking lot' 'workshop residential' 'power plant'\n",
      " 'tower' 'mortuary' 'animal sale or care' 'laundry/laundromat' 'nite club'\n",
      " 'paint store' 'recreation bldg' 'theater' 'prkng garage/public' 'sign'\n",
      " 'phone xchnge/equip' 'dance hall' 'sfpd or sffd station' 'storage tanks'\n",
      " 'muni carbarn' 'stadium' 'automobile sales' 'fence/retaining wall'\n",
      " 'radio & tv stations' 'social care facility' 'amusement center'\n",
      " 'day care home gt 12' 'moving & storage' 'dry cleaners'\n",
      " 'day care home 7 - 12' 'chemical processing' 'accessory cottage'\n",
      " 'day care, non-res' 'nursing home non amb' 'wholesale sales' 'library'\n",
      " 'nursery(floral)' 'day care center' 'nursing home gt 6' 'sewage plant'\n",
      " 'convalescent home' 'greenhouse' 'adult entertainment'\n",
      " 'muni driver restroom' 'sound studio' 'dairies/dairy equip.'\n",
      " 'christmas tree lot' 'bath house' 'jail' \"prson'l svc tutor\"\n",
      " 'r-3(dwg) nursing' 'car wash' 'roofing materials' 'orphanage'\n",
      " 'ambulance service' 'meat/produce marts' 'building materials' 'temple'\n",
      " 'swimming pool' 'day care home lt 7' 'nursing home lte 6' 'child care']\n"
     ]
    }
   ],
   "source": [
    "unique_uses = df['Existing Use'].unique()\n",
    "print(unique_uses)"
   ]
  }
 ],
 "metadata": {
  "kernelspec": {
   "display_name": ".venv",
   "language": "python",
   "name": "python3"
  },
  "language_info": {
   "codemirror_mode": {
    "name": "ipython",
    "version": 3
   },
   "file_extension": ".py",
   "mimetype": "text/x-python",
   "name": "python",
   "nbconvert_exporter": "python",
   "pygments_lexer": "ipython3",
   "version": "3.11.11"
  }
 },
 "nbformat": 4,
 "nbformat_minor": 5
}
