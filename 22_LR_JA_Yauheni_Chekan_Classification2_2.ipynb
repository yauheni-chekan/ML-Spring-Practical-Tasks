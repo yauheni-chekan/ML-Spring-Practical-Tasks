{
  "cells": [
    {
      "cell_type": "markdown",
      "metadata": {
        "id": "view-in-github",
        "colab_type": "text"
      },
      "source": [
        "<a href=\"https://colab.research.google.com/github/yauheni-chekan/ML-Spring-Practical-Tasks/blob/main/22_LR_JA_Yauheni_Chekan_Classification2_2.ipynb\" target=\"_parent\"><img src=\"https://colab.research.google.com/assets/colab-badge.svg\" alt=\"Open In Colab\"/></a>"
      ]
    },
    {
      "cell_type": "markdown",
      "metadata": {
        "id": "Bk3gObFTHtRw"
      },
      "source": [
        "# Drug Classification Dataset Analysis\n",
        "\n",
        "## Dataset Overview\n",
        "This dataset contains information about patients and their prescribed drugs. It's a multiclass classification problem where the goal is to predict which drug would be suitable for a patient based on their characteristics.\n",
        "\n",
        "## Features\n",
        "- **Age**: Patient's age (numeric)\n",
        "- **Sex**: Patient's gender (categorical: F/M)\n",
        "- **BP**: Blood pressure level (categorical: HIGH/NORMAL/LOW)\n",
        "- **Cholesterol**: Cholesterol level (categorical: HIGH/NORMAL)\n",
        "- **Na_to_K**: Sodium to Potassium ratio in blood (numeric)\n",
        "- **Drug**: Target variable - the drug prescribed (categorical: drugA, drugB, drugC, drugX, DrugY)\n",
        "\n",
        "## Target Variable (Drug)\n",
        "The dataset contains 5 different drug types:\n",
        "- drugA\n",
        "- drugB\n",
        "- drugC\n",
        "- drugX\n",
        "- DrugY\n",
        "\n",
        "## Dataset Characteristics\n",
        "- Number of samples: 200\n",
        "- Number of features: 5\n",
        "- Number of classes: 5\n",
        "- Contains both categorical and numerical features\n",
        "- Imbalanced classification problem (DrugY appears to be the most common class)\n",
        "\n",
        "## Data Types\n",
        "- Categorical features: Sex, BP, Cholesterol, Drug\n",
        "- Numerical features: Age, Na_to_K"
      ]
    },
    {
      "cell_type": "code",
      "execution_count": 2,
      "metadata": {
        "id": "v3pUq1NoHtRx",
        "outputId": "a6a0d28e-0865-4974-8e7a-01f635ecceb4",
        "colab": {
          "base_uri": "https://localhost:8080/",
          "height": 258
        }
      },
      "outputs": [
        {
          "output_type": "stream",
          "name": "stdout",
          "text": [
            "Dataset Shape: (200, 6)\n",
            "\n",
            "First few rows of the dataset:\n"
          ]
        },
        {
          "output_type": "execute_result",
          "data": {
            "text/plain": [
              "   Age Sex      BP Cholesterol  Na_to_K   Drug\n",
              "0   23   F    HIGH        HIGH   25.355  DrugY\n",
              "1   47   M     LOW        HIGH   13.093  drugC\n",
              "2   47   M     LOW        HIGH   10.114  drugC\n",
              "3   28   F  NORMAL        HIGH    7.798  drugX\n",
              "4   61   F     LOW        HIGH   18.043  DrugY"
            ],
            "text/html": [
              "\n",
              "  <div id=\"df-39d7d5cb-7671-4c1e-98d8-bab34c218e41\" class=\"colab-df-container\">\n",
              "    <div>\n",
              "<style scoped>\n",
              "    .dataframe tbody tr th:only-of-type {\n",
              "        vertical-align: middle;\n",
              "    }\n",
              "\n",
              "    .dataframe tbody tr th {\n",
              "        vertical-align: top;\n",
              "    }\n",
              "\n",
              "    .dataframe thead th {\n",
              "        text-align: right;\n",
              "    }\n",
              "</style>\n",
              "<table border=\"1\" class=\"dataframe\">\n",
              "  <thead>\n",
              "    <tr style=\"text-align: right;\">\n",
              "      <th></th>\n",
              "      <th>Age</th>\n",
              "      <th>Sex</th>\n",
              "      <th>BP</th>\n",
              "      <th>Cholesterol</th>\n",
              "      <th>Na_to_K</th>\n",
              "      <th>Drug</th>\n",
              "    </tr>\n",
              "  </thead>\n",
              "  <tbody>\n",
              "    <tr>\n",
              "      <th>0</th>\n",
              "      <td>23</td>\n",
              "      <td>F</td>\n",
              "      <td>HIGH</td>\n",
              "      <td>HIGH</td>\n",
              "      <td>25.355</td>\n",
              "      <td>DrugY</td>\n",
              "    </tr>\n",
              "    <tr>\n",
              "      <th>1</th>\n",
              "      <td>47</td>\n",
              "      <td>M</td>\n",
              "      <td>LOW</td>\n",
              "      <td>HIGH</td>\n",
              "      <td>13.093</td>\n",
              "      <td>drugC</td>\n",
              "    </tr>\n",
              "    <tr>\n",
              "      <th>2</th>\n",
              "      <td>47</td>\n",
              "      <td>M</td>\n",
              "      <td>LOW</td>\n",
              "      <td>HIGH</td>\n",
              "      <td>10.114</td>\n",
              "      <td>drugC</td>\n",
              "    </tr>\n",
              "    <tr>\n",
              "      <th>3</th>\n",
              "      <td>28</td>\n",
              "      <td>F</td>\n",
              "      <td>NORMAL</td>\n",
              "      <td>HIGH</td>\n",
              "      <td>7.798</td>\n",
              "      <td>drugX</td>\n",
              "    </tr>\n",
              "    <tr>\n",
              "      <th>4</th>\n",
              "      <td>61</td>\n",
              "      <td>F</td>\n",
              "      <td>LOW</td>\n",
              "      <td>HIGH</td>\n",
              "      <td>18.043</td>\n",
              "      <td>DrugY</td>\n",
              "    </tr>\n",
              "  </tbody>\n",
              "</table>\n",
              "</div>\n",
              "    <div class=\"colab-df-buttons\">\n",
              "\n",
              "  <div class=\"colab-df-container\">\n",
              "    <button class=\"colab-df-convert\" onclick=\"convertToInteractive('df-39d7d5cb-7671-4c1e-98d8-bab34c218e41')\"\n",
              "            title=\"Convert this dataframe to an interactive table.\"\n",
              "            style=\"display:none;\">\n",
              "\n",
              "  <svg xmlns=\"http://www.w3.org/2000/svg\" height=\"24px\" viewBox=\"0 -960 960 960\">\n",
              "    <path d=\"M120-120v-720h720v720H120Zm60-500h600v-160H180v160Zm220 220h160v-160H400v160Zm0 220h160v-160H400v160ZM180-400h160v-160H180v160Zm440 0h160v-160H620v160ZM180-180h160v-160H180v160Zm440 0h160v-160H620v160Z\"/>\n",
              "  </svg>\n",
              "    </button>\n",
              "\n",
              "  <style>\n",
              "    .colab-df-container {\n",
              "      display:flex;\n",
              "      gap: 12px;\n",
              "    }\n",
              "\n",
              "    .colab-df-convert {\n",
              "      background-color: #E8F0FE;\n",
              "      border: none;\n",
              "      border-radius: 50%;\n",
              "      cursor: pointer;\n",
              "      display: none;\n",
              "      fill: #1967D2;\n",
              "      height: 32px;\n",
              "      padding: 0 0 0 0;\n",
              "      width: 32px;\n",
              "    }\n",
              "\n",
              "    .colab-df-convert:hover {\n",
              "      background-color: #E2EBFA;\n",
              "      box-shadow: 0px 1px 2px rgba(60, 64, 67, 0.3), 0px 1px 3px 1px rgba(60, 64, 67, 0.15);\n",
              "      fill: #174EA6;\n",
              "    }\n",
              "\n",
              "    .colab-df-buttons div {\n",
              "      margin-bottom: 4px;\n",
              "    }\n",
              "\n",
              "    [theme=dark] .colab-df-convert {\n",
              "      background-color: #3B4455;\n",
              "      fill: #D2E3FC;\n",
              "    }\n",
              "\n",
              "    [theme=dark] .colab-df-convert:hover {\n",
              "      background-color: #434B5C;\n",
              "      box-shadow: 0px 1px 3px 1px rgba(0, 0, 0, 0.15);\n",
              "      filter: drop-shadow(0px 1px 2px rgba(0, 0, 0, 0.3));\n",
              "      fill: #FFFFFF;\n",
              "    }\n",
              "  </style>\n",
              "\n",
              "    <script>\n",
              "      const buttonEl =\n",
              "        document.querySelector('#df-39d7d5cb-7671-4c1e-98d8-bab34c218e41 button.colab-df-convert');\n",
              "      buttonEl.style.display =\n",
              "        google.colab.kernel.accessAllowed ? 'block' : 'none';\n",
              "\n",
              "      async function convertToInteractive(key) {\n",
              "        const element = document.querySelector('#df-39d7d5cb-7671-4c1e-98d8-bab34c218e41');\n",
              "        const dataTable =\n",
              "          await google.colab.kernel.invokeFunction('convertToInteractive',\n",
              "                                                    [key], {});\n",
              "        if (!dataTable) return;\n",
              "\n",
              "        const docLinkHtml = 'Like what you see? Visit the ' +\n",
              "          '<a target=\"_blank\" href=https://colab.research.google.com/notebooks/data_table.ipynb>data table notebook</a>'\n",
              "          + ' to learn more about interactive tables.';\n",
              "        element.innerHTML = '';\n",
              "        dataTable['output_type'] = 'display_data';\n",
              "        await google.colab.output.renderOutput(dataTable, element);\n",
              "        const docLink = document.createElement('div');\n",
              "        docLink.innerHTML = docLinkHtml;\n",
              "        element.appendChild(docLink);\n",
              "      }\n",
              "    </script>\n",
              "  </div>\n",
              "\n",
              "\n",
              "    <div id=\"df-e0478bd6-2395-492a-aba1-15ec390e9233\">\n",
              "      <button class=\"colab-df-quickchart\" onclick=\"quickchart('df-e0478bd6-2395-492a-aba1-15ec390e9233')\"\n",
              "                title=\"Suggest charts\"\n",
              "                style=\"display:none;\">\n",
              "\n",
              "<svg xmlns=\"http://www.w3.org/2000/svg\" height=\"24px\"viewBox=\"0 0 24 24\"\n",
              "     width=\"24px\">\n",
              "    <g>\n",
              "        <path d=\"M19 3H5c-1.1 0-2 .9-2 2v14c0 1.1.9 2 2 2h14c1.1 0 2-.9 2-2V5c0-1.1-.9-2-2-2zM9 17H7v-7h2v7zm4 0h-2V7h2v10zm4 0h-2v-4h2v4z\"/>\n",
              "    </g>\n",
              "</svg>\n",
              "      </button>\n",
              "\n",
              "<style>\n",
              "  .colab-df-quickchart {\n",
              "      --bg-color: #E8F0FE;\n",
              "      --fill-color: #1967D2;\n",
              "      --hover-bg-color: #E2EBFA;\n",
              "      --hover-fill-color: #174EA6;\n",
              "      --disabled-fill-color: #AAA;\n",
              "      --disabled-bg-color: #DDD;\n",
              "  }\n",
              "\n",
              "  [theme=dark] .colab-df-quickchart {\n",
              "      --bg-color: #3B4455;\n",
              "      --fill-color: #D2E3FC;\n",
              "      --hover-bg-color: #434B5C;\n",
              "      --hover-fill-color: #FFFFFF;\n",
              "      --disabled-bg-color: #3B4455;\n",
              "      --disabled-fill-color: #666;\n",
              "  }\n",
              "\n",
              "  .colab-df-quickchart {\n",
              "    background-color: var(--bg-color);\n",
              "    border: none;\n",
              "    border-radius: 50%;\n",
              "    cursor: pointer;\n",
              "    display: none;\n",
              "    fill: var(--fill-color);\n",
              "    height: 32px;\n",
              "    padding: 0;\n",
              "    width: 32px;\n",
              "  }\n",
              "\n",
              "  .colab-df-quickchart:hover {\n",
              "    background-color: var(--hover-bg-color);\n",
              "    box-shadow: 0 1px 2px rgba(60, 64, 67, 0.3), 0 1px 3px 1px rgba(60, 64, 67, 0.15);\n",
              "    fill: var(--button-hover-fill-color);\n",
              "  }\n",
              "\n",
              "  .colab-df-quickchart-complete:disabled,\n",
              "  .colab-df-quickchart-complete:disabled:hover {\n",
              "    background-color: var(--disabled-bg-color);\n",
              "    fill: var(--disabled-fill-color);\n",
              "    box-shadow: none;\n",
              "  }\n",
              "\n",
              "  .colab-df-spinner {\n",
              "    border: 2px solid var(--fill-color);\n",
              "    border-color: transparent;\n",
              "    border-bottom-color: var(--fill-color);\n",
              "    animation:\n",
              "      spin 1s steps(1) infinite;\n",
              "  }\n",
              "\n",
              "  @keyframes spin {\n",
              "    0% {\n",
              "      border-color: transparent;\n",
              "      border-bottom-color: var(--fill-color);\n",
              "      border-left-color: var(--fill-color);\n",
              "    }\n",
              "    20% {\n",
              "      border-color: transparent;\n",
              "      border-left-color: var(--fill-color);\n",
              "      border-top-color: var(--fill-color);\n",
              "    }\n",
              "    30% {\n",
              "      border-color: transparent;\n",
              "      border-left-color: var(--fill-color);\n",
              "      border-top-color: var(--fill-color);\n",
              "      border-right-color: var(--fill-color);\n",
              "    }\n",
              "    40% {\n",
              "      border-color: transparent;\n",
              "      border-right-color: var(--fill-color);\n",
              "      border-top-color: var(--fill-color);\n",
              "    }\n",
              "    60% {\n",
              "      border-color: transparent;\n",
              "      border-right-color: var(--fill-color);\n",
              "    }\n",
              "    80% {\n",
              "      border-color: transparent;\n",
              "      border-right-color: var(--fill-color);\n",
              "      border-bottom-color: var(--fill-color);\n",
              "    }\n",
              "    90% {\n",
              "      border-color: transparent;\n",
              "      border-bottom-color: var(--fill-color);\n",
              "    }\n",
              "  }\n",
              "</style>\n",
              "\n",
              "      <script>\n",
              "        async function quickchart(key) {\n",
              "          const quickchartButtonEl =\n",
              "            document.querySelector('#' + key + ' button');\n",
              "          quickchartButtonEl.disabled = true;  // To prevent multiple clicks.\n",
              "          quickchartButtonEl.classList.add('colab-df-spinner');\n",
              "          try {\n",
              "            const charts = await google.colab.kernel.invokeFunction(\n",
              "                'suggestCharts', [key], {});\n",
              "          } catch (error) {\n",
              "            console.error('Error during call to suggestCharts:', error);\n",
              "          }\n",
              "          quickchartButtonEl.classList.remove('colab-df-spinner');\n",
              "          quickchartButtonEl.classList.add('colab-df-quickchart-complete');\n",
              "        }\n",
              "        (() => {\n",
              "          let quickchartButtonEl =\n",
              "            document.querySelector('#df-e0478bd6-2395-492a-aba1-15ec390e9233 button');\n",
              "          quickchartButtonEl.style.display =\n",
              "            google.colab.kernel.accessAllowed ? 'block' : 'none';\n",
              "        })();\n",
              "      </script>\n",
              "    </div>\n",
              "\n",
              "    </div>\n",
              "  </div>\n"
            ],
            "application/vnd.google.colaboratory.intrinsic+json": {
              "type": "dataframe",
              "variable_name": "df",
              "summary": "{\n  \"name\": \"df\",\n  \"rows\": 200,\n  \"fields\": [\n    {\n      \"column\": \"Age\",\n      \"properties\": {\n        \"dtype\": \"number\",\n        \"std\": 16,\n        \"min\": 15,\n        \"max\": 74,\n        \"num_unique_values\": 57,\n        \"samples\": [\n          23,\n          49,\n          37\n        ],\n        \"semantic_type\": \"\",\n        \"description\": \"\"\n      }\n    },\n    {\n      \"column\": \"Sex\",\n      \"properties\": {\n        \"dtype\": \"category\",\n        \"num_unique_values\": 2,\n        \"samples\": [\n          \"M\",\n          \"F\"\n        ],\n        \"semantic_type\": \"\",\n        \"description\": \"\"\n      }\n    },\n    {\n      \"column\": \"BP\",\n      \"properties\": {\n        \"dtype\": \"category\",\n        \"num_unique_values\": 3,\n        \"samples\": [\n          \"HIGH\",\n          \"LOW\"\n        ],\n        \"semantic_type\": \"\",\n        \"description\": \"\"\n      }\n    },\n    {\n      \"column\": \"Cholesterol\",\n      \"properties\": {\n        \"dtype\": \"category\",\n        \"num_unique_values\": 2,\n        \"samples\": [\n          \"NORMAL\",\n          \"HIGH\"\n        ],\n        \"semantic_type\": \"\",\n        \"description\": \"\"\n      }\n    },\n    {\n      \"column\": \"Na_to_K\",\n      \"properties\": {\n        \"dtype\": \"number\",\n        \"std\": 7.223955528459517,\n        \"min\": 6.269,\n        \"max\": 38.247,\n        \"num_unique_values\": 198,\n        \"samples\": [\n          27.05,\n          9.281\n        ],\n        \"semantic_type\": \"\",\n        \"description\": \"\"\n      }\n    },\n    {\n      \"column\": \"Drug\",\n      \"properties\": {\n        \"dtype\": \"category\",\n        \"num_unique_values\": 5,\n        \"samples\": [\n          \"drugC\",\n          \"drugB\"\n        ],\n        \"semantic_type\": \"\",\n        \"description\": \"\"\n      }\n    }\n  ]\n}"
            }
          },
          "metadata": {},
          "execution_count": 2
        }
      ],
      "source": [
        "import pandas as pd\n",
        "\n",
        "df = pd.read_csv(r\"/content/drug200.csv\")\n",
        "print(\"Dataset Shape:\", df.shape)\n",
        "print(\"\\nFirst few rows of the dataset:\")\n",
        "df.head()"
      ]
    },
    {
      "cell_type": "markdown",
      "metadata": {
        "id": "5EzQBUupHtRx"
      },
      "source": [
        "#### Check the dataset for missing values."
      ]
    },
    {
      "cell_type": "code",
      "execution_count": 3,
      "metadata": {
        "id": "ccEEepb1HtRx",
        "outputId": "8a22f91d-66c6-4f4f-e687-6a92cdbed6ee",
        "colab": {
          "base_uri": "https://localhost:8080/"
        }
      },
      "outputs": [
        {
          "output_type": "stream",
          "name": "stdout",
          "text": [
            "No missing values in the dataset.\n"
          ]
        }
      ],
      "source": [
        "missing_values = df.isna().sum()\n",
        "if missing_values.any():\n",
        "    missing_info = pd.DataFrame({\"Missing Values\": missing_values})\n",
        "    print(\"Columns with missing values:\")\n",
        "    print(missing_info[missing_info[\"Missing Values\"] > 0])\n",
        "else:\n",
        "    print(\"No missing values in the dataset.\")"
      ]
    },
    {
      "cell_type": "markdown",
      "metadata": {
        "id": "UbMna8T1HtRy"
      },
      "source": [
        "#### Chek the dataset for fully duplicated rows."
      ]
    },
    {
      "cell_type": "code",
      "execution_count": 4,
      "metadata": {
        "id": "eUbeeMxhHtRy",
        "outputId": "e9f3c8b3-63a6-4e99-b0ac-331548476beb",
        "colab": {
          "base_uri": "https://localhost:8080/"
        }
      },
      "outputs": [
        {
          "output_type": "stream",
          "name": "stdout",
          "text": [
            "Number of fully duplicated rows: 0\n",
            "No fully duplicated rows found in the dataset.\n"
          ]
        }
      ],
      "source": [
        "duplicated_rows = df[df.duplicated(keep=False)]\n",
        "print(f\"Number of fully duplicated rows: {len(duplicated_rows)}\")\n",
        "\n",
        "match len(duplicated_rows):\n",
        "    case 0:\n",
        "        print(\"No fully duplicated rows found in the dataset.\")\n",
        "    case _:\n",
        "        print(\"Duplicated rows:\")\n",
        "        print(duplicated_rows.sort_values(by=df.columns.tolist()))"
      ]
    },
    {
      "cell_type": "markdown",
      "metadata": {
        "id": "wEeRooy2HtRy"
      },
      "source": [
        "#### Check if the dataset is balanced by the target column `Drug`"
      ]
    },
    {
      "cell_type": "code",
      "execution_count": 5,
      "metadata": {
        "id": "NGQmEq01HtRy",
        "outputId": "cf1398e0-fca9-41a0-ccf4-3cdba1225eaa",
        "colab": {
          "base_uri": "https://localhost:8080/",
          "height": 798
        }
      },
      "outputs": [
        {
          "output_type": "stream",
          "name": "stdout",
          "text": [
            "Distribution of Drug types:\n",
            "       Count  Percentage\n",
            "Drug                    \n",
            "DrugY     91        45.5\n",
            "drugX     54        27.0\n",
            "drugA     23        11.5\n",
            "drugC     16         8.0\n",
            "drugB     16         8.0\n"
          ]
        },
        {
          "output_type": "display_data",
          "data": {
            "text/plain": [
              "<Figure size 1000x600 with 1 Axes>"
            ],
            "image/png": "[encoded data removed]"
          },
          "metadata": {}
        },
        {
          "output_type": "stream",
          "name": "stdout",
          "text": [
            "\n",
            "The dataset is imbalanced\n",
            "Imbalance ratio: 1.88\n"
          ]
        }
      ],
      "source": [
        "import matplotlib.pyplot as plt\n",
        "\n",
        "drug_distribution = df[\"Drug\"].value_counts()\n",
        "drug_percentages = df[\"Drug\"].value_counts(normalize=True) * 100\n",
        "\n",
        "distribution_summary = pd.DataFrame({\n",
        "    \"Count\": drug_distribution,\n",
        "    \"Percentage\": drug_percentages,\n",
        "})\n",
        "\n",
        "print(\"Distribution of Drug types:\")\n",
        "print(distribution_summary)\n",
        "\n",
        "# Visualize the distribution\n",
        "plt.figure(figsize=(10, 6))\n",
        "drug_distribution.plot(kind=\"bar\")\n",
        "plt.title(\"Distribution of Drug Types\")\n",
        "plt.xlabel(\"Drug\")\n",
        "plt.ylabel(\"Count\")\n",
        "plt.xticks(rotation=45)\n",
        "plt.tight_layout()\n",
        "plt.show()\n",
        "\n",
        "# Check if dataset is balanced\n",
        "max_diff = drug_distribution.max() - drug_distribution.min()\n",
        "mean_count = drug_distribution.mean()\n",
        "imbalance_ratio = max_diff / mean_count\n",
        "\n",
        "imbalance_ratio_threshold = 0.2  # threshold of 20% difference\n",
        "if imbalance_ratio < imbalance_ratio_threshold:\n",
        "    print(\"\\nThe dataset is relatively balanced\")\n",
        "else:\n",
        "    print(\"\\nThe dataset is imbalanced\")\n",
        "    print(f\"Imbalance ratio: {imbalance_ratio:.2f}\")\n"
      ]
    },
    {
      "cell_type": "markdown",
      "metadata": {
        "id": "_la5a1aCHtRy"
      },
      "source": [
        "#### Check if on average, people with normal blood pressure `(BP)` have the highest level of `Na` to `K` ratio"
      ]
    },
    {
      "cell_type": "code",
      "execution_count": 6,
      "metadata": {
        "id": "WlBET_igHtRy",
        "outputId": "6d57dd1a-1fa0-414d-f69e-e7dad8df98e8",
        "colab": {
          "base_uri": "https://localhost:8080/",
          "height": 763
        }
      },
      "outputs": [
        {
          "output_type": "stream",
          "name": "stdout",
          "text": [
            "Average Na to K ratio by blood pressure category:\n",
            "BP\n",
            "HIGH      17.040623\n",
            "LOW       16.539797\n",
            "NORMAL    14.342746\n",
            "Name: Na_to_K, dtype: float64\n",
            "\n",
            "\n",
            "People with NORMAL blood pressure do NOT have the highest average Na to K ratio\n"
          ]
        },
        {
          "output_type": "display_data",
          "data": {
            "text/plain": [
              "<Figure size 1000x600 with 1 Axes>"
            ],
            "image/png": "[encoded data removed]"
          },
          "metadata": {}
        }
      ],
      "source": [
        "# Calculate mean Na_to_K ratio for each BP category\n",
        "bp_na_to_k_means = df.groupby(\"BP\")[\"Na_to_K\"].mean()\n",
        "\n",
        "print(\"Average Na to K ratio by blood pressure category:\")\n",
        "print(bp_na_to_k_means)\n",
        "print(\"\\n\")\n",
        "\n",
        "# Check if NORMAL BP has highest Na_to_K ratio\n",
        "is_normal_highest = bp_na_to_k_means[\"NORMAL\"] > bp_na_to_k_means[[\"HIGH\", \"LOW\"]].max()\n",
        "\n",
        "if is_normal_highest:\n",
        "    print(\"People with NORMAL blood pressure have the highest average Na to K ratio\")\n",
        "else:\n",
        "    print(\"People with NORMAL blood pressure do NOT have the highest average Na to K ratio\")\n",
        "\n",
        "# Visualize the comparison\n",
        "plt.figure(figsize=(10, 6))\n",
        "bp_na_to_k_means.plot(kind=\"bar\")\n",
        "plt.title(\"Average Na to K Ratio by Blood Pressure Category\")\n",
        "plt.xlabel(\"Blood Pressure Category\")\n",
        "plt.ylabel(\"Average Na to K Ratio\")\n",
        "plt.xticks(rotation=45)\n",
        "plt.tight_layout()\n",
        "plt.show()\n"
      ]
    },
    {
      "cell_type": "markdown",
      "metadata": {
        "id": "PmcZWXw2HtRy"
      },
      "source": [
        "#### Encode categorical features (`Sex`, `Cholesterol`, `BP`) to numbers.\n",
        "Use the following rules:\n",
        "```\n",
        "- 'Sex': M = 0, F = 1\n",
        "- 'Cholesterol': NORMAL = 0, HIGH = 1\n",
        "- 'BP': LOW = -1, NORMAL = 0, HIGH = 1\n",
        "```"
      ]
    },
    {
      "cell_type": "code",
      "execution_count": 7,
      "metadata": {
        "id": "F2nKv9_FHtRy",
        "outputId": "60128f17-36f8-425c-b3de-944643097c80",
        "colab": {
          "base_uri": "https://localhost:8080/"
        }
      },
      "outputs": [
        {
          "output_type": "stream",
          "name": "stdout",
          "text": [
            "First few rows of encoded dataframe:\n",
            "   Age  Sex  BP  Cholesterol  Na_to_K   Drug\n",
            "0   23    1   1            1   25.355  DrugY\n",
            "1   47    0  -1            1   13.093  drugC\n",
            "2   47    0  -1            1   10.114  drugC\n",
            "3   28    1   0            1    7.798  drugX\n",
            "4   61    1  -1            1   18.043  DrugY\n"
          ]
        }
      ],
      "source": [
        "df[\"Sex\"] = df[\"Sex\"].map({\"M\": 0, \"F\": 1})\n",
        "df[\"Cholesterol\"] = df[\"Cholesterol\"].map({\"NORMAL\": 0, \"HIGH\": 1})\n",
        "df[\"BP\"] = df[\"BP\"].map({\"LOW\": -1, \"NORMAL\": 0, \"HIGH\": 1})\n",
        "print(\"First few rows of encoded dataframe:\")\n",
        "print(df.head())\n"
      ]
    },
    {
      "cell_type": "markdown",
      "metadata": {
        "id": "lM5mNHviHtRy"
      },
      "source": [
        "#### Use `Drug` as a target and other features as predictors. Split the data with stratification by target."
      ]
    },
    {
      "cell_type": "code",
      "execution_count": 8,
      "metadata": {
        "id": "SC4pSjdpHtRy",
        "outputId": "f7d698a9-8e10-45fc-f004-4050af57de3f",
        "colab": {
          "base_uri": "https://localhost:8080/"
        }
      },
      "outputs": [
        {
          "output_type": "stream",
          "name": "stdout",
          "text": [
            "Number of drugA samples in the test set: 6\n"
          ]
        }
      ],
      "source": [
        "from sklearn.model_selection import train_test_split\n",
        "\n",
        "# Split the data with stratification by target\n",
        "X = df.drop(\"Drug\", axis=1)\n",
        "y = df[\"Drug\"]\n",
        "\n",
        "X_train, X_test, y_train, y_test = train_test_split(X, y, random_state=85, stratify=y)\n",
        "drug_a_count = y_test.value_counts()[\"drugA\"]\n",
        "print(f\"Number of drugA samples in the test set: {drug_a_count}\")\n"
      ]
    },
    {
      "cell_type": "markdown",
      "metadata": {
        "id": "y0j8FLZdHtRz"
      },
      "source": [
        "#### Fit StandardScaler on train data, and then transform train and test data."
      ]
    },
    {
      "cell_type": "code",
      "execution_count": 9,
      "metadata": {
        "id": "ZD4Il6qDHtRz",
        "outputId": "5c02af0b-6074-4bd7-9e75-1f13291e43af",
        "colab": {
          "base_uri": "https://localhost:8080/"
        }
      },
      "outputs": [
        {
          "output_type": "stream",
          "name": "stdout",
          "text": [
            "First few rows of scaled training data:\n",
            "[[-1.76688399  1.040833    1.12641512 -0.97367959 -0.09408193]\n",
            " [ 0.13805701 -0.96076892 -1.2702128   1.0270319  -0.41529182]\n",
            " [-0.78368863  1.040833   -0.07189884  1.0270319  -1.1597882 ]\n",
            " [-1.27528631 -0.96076892 -0.07189884  1.0270319   1.26738136]\n",
            " [ 0.38385585 -0.96076892  1.12641512  1.0270319   0.27432182]]\n"
          ]
        }
      ],
      "source": [
        "from sklearn.preprocessing import StandardScaler\n",
        "\n",
        "scaler = StandardScaler()\n",
        "X_train_scaled = scaler.fit_transform(X_train)\n",
        "X_test_scaled = scaler.transform(X_test)\n",
        "\n",
        "print(\"First few rows of scaled training data:\")\n",
        "print(X_train_scaled[:5])\n"
      ]
    },
    {
      "cell_type": "markdown",
      "metadata": {
        "id": "XG4qhYUNHtRz"
      },
      "source": [
        "#### Fit KNN classifier on non-scaled data. (`non-scaled model`)"
      ]
    },
    {
      "cell_type": "code",
      "execution_count": 10,
      "metadata": {
        "id": "mprtxrZgHtRz",
        "outputId": "f07f968c-8311-450b-c0a6-438fff74f55e",
        "colab": {
          "base_uri": "https://localhost:8080/"
        }
      },
      "outputs": [
        {
          "output_type": "stream",
          "name": "stdout",
          "text": [
            "Non-scaled model training score: 0.813\n",
            "Non-scaled model test score: 0.680\n"
          ]
        }
      ],
      "source": [
        "from sklearn.neighbors import KNeighborsClassifier\n",
        "\n",
        "non_scaled_model = KNeighborsClassifier()\n",
        "non_scaled_model.fit(X_train, y_train)\n",
        "\n",
        "print(f\"Non-scaled model training score: {non_scaled_model.score(X_train, y_train):.3f}\")\n",
        "print(f\"Non-scaled model test score: {non_scaled_model.score(X_test, y_test):.3f}\")\n"
      ]
    },
    {
      "cell_type": "markdown",
      "metadata": {
        "id": "cI1t7Hm2HtRz"
      },
      "source": [
        "#### Fit KNN classifier on scaled data. (`scaled model`)"
      ]
    },
    {
      "cell_type": "code",
      "execution_count": 11,
      "metadata": {
        "id": "dce5pdSaHtRz",
        "outputId": "3d9ffc2e-4e20-41d0-bb6e-bcbf4d4431ff",
        "colab": {
          "base_uri": "https://localhost:8080/"
        }
      },
      "outputs": [
        {
          "output_type": "stream",
          "name": "stdout",
          "text": [
            "Scaled model training score: 0.887\n",
            "Scaled model test score: 0.760\n"
          ]
        }
      ],
      "source": [
        "scaled_model = KNeighborsClassifier()\n",
        "scaled_model.fit(X_train_scaled, y_train)\n",
        "\n",
        "print(f\"Scaled model training score: {scaled_model.score(X_train_scaled, y_train):.3f}\")\n",
        "print(f\"Scaled model test score: {scaled_model.score(X_test_scaled, y_test):.3f}\")\n"
      ]
    },
    {
      "cell_type": "markdown",
      "metadata": {
        "id": "IcAEiyMCHtRz"
      },
      "source": [
        "#### Get predictions on test data for all models."
      ]
    },
    {
      "cell_type": "code",
      "execution_count": 12,
      "metadata": {
        "id": "FsM6Jlt-HtRz"
      },
      "outputs": [],
      "source": [
        "from sklearn.metrics import ConfusionMatrixDisplay\n",
        "\n",
        "y_pred_non_scaled = non_scaled_model.predict(X_test)\n",
        "y_pred_scaled = scaled_model.predict(X_test_scaled)"
      ]
    },
    {
      "cell_type": "markdown",
      "metadata": {
        "id": "W5NpEpJCHtRz"
      },
      "source": [
        "#### Calculate accuracy, micro and macro recalls and precisions for both models."
      ]
    },
    {
      "cell_type": "code",
      "execution_count": 13,
      "metadata": {
        "id": "PTi3ihMJHtRz",
        "outputId": "1b226932-1327-45a0-a421-90c546b8620c",
        "colab": {
          "base_uri": "https://localhost:8080/"
        }
      },
      "outputs": [
        {
          "output_type": "stream",
          "name": "stdout",
          "text": [
            "Non-scaled model metrics:\n",
            "Accuracy: 0.680\n",
            "Micro-averaged precision: 0.680\n",
            "Macro-averaged precision: 0.544\n",
            "Micro-averaged recall: 0.680\n",
            "Macro-averaged recall: 0.568\n",
            "\n",
            "Scaled model metrics:\n",
            "Accuracy: 0.760\n",
            "Micro-averaged precision: 0.760\n",
            "Macro-averaged precision: 0.717\n",
            "Micro-averaged recall: 0.760\n",
            "Macro-averaged recall: 0.782\n"
          ]
        }
      ],
      "source": [
        "from sklearn.metrics import accuracy_score, precision_score, recall_score\n",
        "\n",
        "# Calculate metrics for non-scaled model\n",
        "non_scaled_accuracy = accuracy_score(y_test, y_pred_non_scaled)\n",
        "non_scaled_precision_micro = precision_score(y_test, y_pred_non_scaled, average=\"micro\")\n",
        "non_scaled_precision_macro = precision_score(y_test, y_pred_non_scaled, average=\"macro\")\n",
        "non_scaled_recall_micro = recall_score(y_test, y_pred_non_scaled, average=\"micro\")\n",
        "non_scaled_recall_macro = recall_score(y_test, y_pred_non_scaled, average=\"macro\")\n",
        "\n",
        "# Calculate metrics for scaled model\n",
        "scaled_accuracy = accuracy_score(y_test, y_pred_scaled)\n",
        "scaled_precision_micro = precision_score(y_test, y_pred_scaled, average=\"micro\")\n",
        "scaled_precision_macro = precision_score(y_test, y_pred_scaled, average=\"macro\")\n",
        "scaled_recall_micro = recall_score(y_test, y_pred_scaled, average=\"micro\")\n",
        "scaled_recall_macro = recall_score(y_test, y_pred_scaled, average=\"macro\")\n",
        "\n",
        "print(\"Non-scaled model metrics:\")\n",
        "print(f\"Accuracy: {non_scaled_accuracy:.3f}\")\n",
        "print(f\"Micro-averaged precision: {non_scaled_precision_micro:.3f}\")\n",
        "print(f\"Macro-averaged precision: {non_scaled_precision_macro:.3f}\")\n",
        "print(f\"Micro-averaged recall: {non_scaled_recall_micro:.3f}\")\n",
        "print(f\"Macro-averaged recall: {non_scaled_recall_macro:.3f}\")\n",
        "print(\"\\nScaled model metrics:\")\n",
        "print(f\"Accuracy: {scaled_accuracy:.3f}\")\n",
        "print(f\"Micro-averaged precision: {scaled_precision_micro:.3f}\")\n",
        "print(f\"Macro-averaged precision: {scaled_precision_macro:.3f}\")\n",
        "print(f\"Micro-averaged recall: {scaled_recall_micro:.3f}\")\n",
        "print(f\"Macro-averaged recall: {scaled_recall_macro:.3f}\")\n"
      ]
    },
    {
      "cell_type": "markdown",
      "metadata": {
        "id": "zTXa9AatHtRz"
      },
      "source": [
        "#### Confusion matrix for `non-scaled` model."
      ]
    },
    {
      "cell_type": "code",
      "execution_count": 14,
      "metadata": {
        "id": "CEQwnKQxHtRz",
        "outputId": "405417f3-cd05-4a7a-9ef0-3cd00b4905e0",
        "colab": {
          "base_uri": "https://localhost:8080/",
          "height": 466
        }
      },
      "outputs": [
        {
          "output_type": "execute_result",
          "data": {
            "text/plain": [
              "<sklearn.metrics._plot.confusion_matrix.ConfusionMatrixDisplay at 0x7db9a49b7d10>"
            ]
          },
          "metadata": {},
          "execution_count": 14
        },
        {
          "output_type": "display_data",
          "data": {
            "text/plain": [
              "<Figure size 640x480 with 2 Axes>"
            ],
            "image/png": "[encoded data removed]"
          },
          "metadata": {}
        }
      ],
      "source": [
        "ConfusionMatrixDisplay.from_predictions(y_test, y_pred_non_scaled, cmap=\"Blues\")"
      ]
    },
    {
      "cell_type": "markdown",
      "metadata": {
        "id": "S41lXDGpHtR0"
      },
      "source": [
        "#### Confusion matrix for `scaled` model."
      ]
    },
    {
      "cell_type": "code",
      "execution_count": 15,
      "metadata": {
        "id": "mqQJxmUhHtR0",
        "outputId": "7372f387-57c1-4c24-a0cc-cf4f337b208a",
        "colab": {
          "base_uri": "https://localhost:8080/",
          "height": 466
        }
      },
      "outputs": [
        {
          "output_type": "execute_result",
          "data": {
            "text/plain": [
              "<sklearn.metrics._plot.confusion_matrix.ConfusionMatrixDisplay at 0x7db9a49b7d90>"
            ]
          },
          "metadata": {},
          "execution_count": 15
        },
        {
          "output_type": "display_data",
          "data": {
            "text/plain": [
              "<Figure size 640x480 with 2 Axes>"
            ],
            "image/png": "[encoded data removed]"
          },
          "metadata": {}
        }
      ],
      "source": [
        "ConfusionMatrixDisplay.from_predictions(y_test, y_pred_scaled, cmap=\"Blues\")"
      ]
    }
  ],
  "metadata": {
    "kernelspec": {
      "display_name": ".venv",
      "language": "python",
      "name": "python3"
    },
    "language_info": {
      "codemirror_mode": {
        "name": "ipython",
        "version": 3
      },
      "file_extension": ".py",
      "mimetype": "text/x-python",
      "name": "python",
      "nbconvert_exporter": "python",
      "pygments_lexer": "ipython3",
      "version": "3.11.12"
    },
    "colab": {
      "provenance": [],
      "include_colab_link": true
    }
  },
  "nbformat": 4,
  "nbformat_minor": 0
}