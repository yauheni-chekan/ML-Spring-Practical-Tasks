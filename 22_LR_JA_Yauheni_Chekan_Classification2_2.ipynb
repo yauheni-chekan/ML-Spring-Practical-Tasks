{
 "cells": [
  {
   "cell_type": "markdown",
   "metadata": {},
   "source": [
    "# Drug Classification Dataset Analysis\n",
    "\n",
    "## Dataset Overview\n",
    "This dataset contains information about patients and their prescribed drugs. It's a multiclass classification problem where the goal is to predict which drug would be suitable for a patient based on their characteristics.\n",
    "\n",
    "## Features\n",
    "- **Age**: Patient's age (numeric)\n",
    "- **Sex**: Patient's gender (categorical: F/M)\n",
    "- **BP**: Blood pressure level (categorical: HIGH/NORMAL/LOW)\n",
    "- **Cholesterol**: Cholesterol level (categorical: HIGH/NORMAL)\n",
    "- **Na_to_K**: Sodium to Potassium ratio in blood (numeric)\n",
    "- **Drug**: Target variable - the drug prescribed (categorical: drugA, drugB, drugC, drugX, DrugY)\n",
    "\n",
    "## Target Variable (Drug)\n",
    "The dataset contains 5 different drug types:\n",
    "- drugA\n",
    "- drugB\n",
    "- drugC\n",
    "- drugX\n",
    "- DrugY\n",
    "\n",
    "## Dataset Characteristics\n",
    "- Number of samples: 200\n",
    "- Number of features: 5\n",
    "- Number of classes: 5\n",
    "- Contains both categorical and numerical features\n",
    "- Imbalanced classification problem (DrugY appears to be the most common class)\n",
    "\n",
    "## Data Types\n",
    "- Categorical features: Sex, BP, Cholesterol, Drug\n",
    "- Numerical features: Age, Na_to_K"
   ]
  },
  {
   "cell_type": "code",
   "execution_count": 47,
   "metadata": {},
   "outputs": [
    {
     "name": "stdout",
     "output_type": "stream",
     "text": [
      "Dataset Shape: (200, 6)\n",
      "\n",
      "First few rows of the dataset:\n"
     ]
    },
    {
     "data": {
      "text/html": [
       "<div>\n",
       "<style scoped>\n",
       "    .dataframe tbody tr th:only-of-type {\n",
       "        vertical-align: middle;\n",
       "    }\n",
       "\n",
       "    .dataframe tbody tr th {\n",
       "        vertical-align: top;\n",
       "    }\n",
       "\n",
       "    .dataframe thead th {\n",
       "        text-align: right;\n",
       "    }\n",
       "</style>\n",
       "<table border=\"1\" class=\"dataframe\">\n",
       "  <thead>\n",
       "    <tr style=\"text-align: right;\">\n",
       "      <th></th>\n",
       "      <th>Age</th>\n",
       "      <th>Sex</th>\n",
       "      <th>BP</th>\n",
       "      <th>Cholesterol</th>\n",
       "      <th>Na_to_K</th>\n",
       "      <th>Drug</th>\n",
       "    </tr>\n",
       "  </thead>\n",
       "  <tbody>\n",
       "    <tr>\n",
       "      <th>0</th>\n",
       "      <td>23</td>\n",
       "      <td>F</td>\n",
       "      <td>HIGH</td>\n",
       "      <td>HIGH</td>\n",
       "      <td>25.355</td>\n",
       "      <td>DrugY</td>\n",
       "    </tr>\n",
       "    <tr>\n",
       "      <th>1</th>\n",
       "      <td>47</td>\n",
       "      <td>M</td>\n",
       "      <td>LOW</td>\n",
       "      <td>HIGH</td>\n",
       "      <td>13.093</td>\n",
       "      <td>drugC</td>\n",
       "    </tr>\n",
       "    <tr>\n",
       "      <th>2</th>\n",
       "      <td>47</td>\n",
       "      <td>M</td>\n",
       "      <td>LOW</td>\n",
       "      <td>HIGH</td>\n",
       "      <td>10.114</td>\n",
       "      <td>drugC</td>\n",
       "    </tr>\n",
       "    <tr>\n",
       "      <th>3</th>\n",
       "      <td>28</td>\n",
       "      <td>F</td>\n",
       "      <td>NORMAL</td>\n",
       "      <td>HIGH</td>\n",
       "      <td>7.798</td>\n",
       "      <td>drugX</td>\n",
       "    </tr>\n",
       "    <tr>\n",
       "      <th>4</th>\n",
       "      <td>61</td>\n",
       "      <td>F</td>\n",
       "      <td>LOW</td>\n",
       "      <td>HIGH</td>\n",
       "      <td>18.043</td>\n",
       "      <td>DrugY</td>\n",
       "    </tr>\n",
       "  </tbody>\n",
       "</table>\n",
       "</div>"
      ],
      "text/plain": [
       "   Age Sex      BP Cholesterol  Na_to_K   Drug\n",
       "0   23   F    HIGH        HIGH   25.355  DrugY\n",
       "1   47   M     LOW        HIGH   13.093  drugC\n",
       "2   47   M     LOW        HIGH   10.114  drugC\n",
       "3   28   F  NORMAL        HIGH    7.798  drugX\n",
       "4   61   F     LOW        HIGH   18.043  DrugY"
      ]
     },
     "execution_count": 47,
     "metadata": {},
     "output_type": "execute_result"
    }
   ],
   "source": [
    "import pandas as pd\n",
    "\n",
    "df = pd.read_csv(r\"datasets/drug200.csv\")\n",
    "print(\"Dataset Shape:\", df.shape)\n",
    "print(\"\\nFirst few rows of the dataset:\")\n",
    "df.head()"
   ]
  },
  {
   "cell_type": "markdown",
   "metadata": {},
   "source": [
    "#### Check the dataset for missing values."
   ]
  },
  {
   "cell_type": "code",
   "execution_count": 48,
   "metadata": {},
   "outputs": [
    {
     "name": "stdout",
     "output_type": "stream",
     "text": [
      "No missing values in the dataset.\n"
     ]
    }
   ],
   "source": [
    "missing_values = df.isna().sum()\n",
    "if missing_values.any():\n",
    "    missing_info = pd.DataFrame({\"Missing Values\": missing_values})\n",
    "    print(\"Columns with missing values:\")\n",
    "    print(missing_info[missing_info[\"Missing Values\"] > 0])\n",
    "else:\n",
    "    print(\"No missing values in the dataset.\")"
   ]
  },
  {
   "cell_type": "markdown",
   "metadata": {},
   "source": [
    "#### Chek the dataset for fully duplicated rows."
   ]
  },
  {
   "cell_type": "code",
   "execution_count": 49,
   "metadata": {},
   "outputs": [
    {
     "name": "stdout",
     "output_type": "stream",
     "text": [
      "Number of fully duplicated rows: 0\n",
      "No fully duplicated rows found in the dataset.\n"
     ]
    }
   ],
   "source": [
    "duplicated_rows = df[df.duplicated(keep=False)]\n",
    "print(f\"Number of fully duplicated rows: {len(duplicated_rows)}\")\n",
    "\n",
    "match len(duplicated_rows):\n",
    "    case 0:\n",
    "        print(\"No fully duplicated rows found in the dataset.\")\n",
    "    case _:\n",
    "        print(\"Duplicated rows:\")\n",
    "        print(duplicated_rows.sort_values(by=df.columns.tolist()))"
   ]
  },
  {
   "cell_type": "markdown",
   "metadata": {},
   "source": [
    "#### Check if the dataset is balances by the target column `Drug`"
   ]
  },
  {
   "cell_type": "code",
   "execution_count": 50,
   "metadata": {},
   "outputs": [
    {
     "name": "stdout",
     "output_type": "stream",
     "text": [
      "Distribution of Drug types:\n",
      "       Count  Percentage\n",
      "Drug                    \n",
      "DrugY     91        45.5\n",
      "drugX     54        27.0\n",
      "drugA     23        11.5\n",
      "drugC     16         8.0\n",
      "drugB     16         8.0\n"
     ]
    },
    {
     "data": {
      "image/png": "[encoded data removed]",
      "text/plain": [
       "<Figure size 1000x600 with 1 Axes>"
      ]
     },
     "metadata": {},
     "output_type": "display_data"
    },
    {
     "name": "stdout",
     "output_type": "stream",
     "text": [
      "\n",
      "The dataset is imbalanced\n",
      "Imbalance ratio: 1.88\n"
     ]
    }
   ],
   "source": [
    "import matplotlib.pyplot as plt\n",
    "\n",
    "drug_distribution = df[\"Drug\"].value_counts()\n",
    "drug_percentages = df[\"Drug\"].value_counts(normalize=True) * 100\n",
    "\n",
    "distribution_summary = pd.DataFrame({\n",
    "    \"Count\": drug_distribution,\n",
    "    \"Percentage\": drug_percentages,\n",
    "})\n",
    "\n",
    "print(\"Distribution of Drug types:\")\n",
    "print(distribution_summary)\n",
    "\n",
    "# Visualize the distribution\n",
    "plt.figure(figsize=(10, 6))\n",
    "drug_distribution.plot(kind=\"bar\")\n",
    "plt.title(\"Distribution of Drug Types\")\n",
    "plt.xlabel(\"Drug\")\n",
    "plt.ylabel(\"Count\")\n",
    "plt.xticks(rotation=45)\n",
    "plt.tight_layout()\n",
    "plt.show()\n",
    "\n",
    "# Check if dataset is balanced\n",
    "max_diff = drug_distribution.max() - drug_distribution.min()\n",
    "mean_count = drug_distribution.mean()\n",
    "imbalance_ratio = max_diff / mean_count\n",
    "\n",
    "imbalance_ratio_threshold = 0.2  # threshold of 20% difference\n",
    "if imbalance_ratio < imbalance_ratio_threshold:\n",
    "    print(\"\\nThe dataset is relatively balanced\")\n",
    "else:\n",
    "    print(\"\\nThe dataset is imbalanced\")\n",
    "    print(f\"Imbalance ratio: {imbalance_ratio:.2f}\")\n"
   ]
  },
  {
   "cell_type": "markdown",
   "metadata": {},
   "source": [
    "#### Check if on average, people with normal blood pressure `(BP)` have the highest level of `Na` to `K` ratio"
   ]
  },
  {
   "cell_type": "code",
   "execution_count": 51,
   "metadata": {},
   "outputs": [
    {
     "name": "stdout",
     "output_type": "stream",
     "text": [
      "Average Na to K ratio by blood pressure category:\n",
      "BP\n",
      "HIGH      17.040623\n",
      "LOW       16.539797\n",
      "NORMAL    14.342746\n",
      "Name: Na_to_K, dtype: float64\n",
      "\n",
      "\n",
      "People with NORMAL blood pressure do NOT have the highest average Na to K ratio\n"
     ]
    },
    {
     "data": {
      "image/png": "[encoded data removed]",
      "text/plain": [
       "<Figure size 1000x600 with 1 Axes>"
      ]
     },
     "metadata": {},
     "output_type": "display_data"
    }
   ],
   "source": [
    "# Calculate mean Na_to_K ratio for each BP category\n",
    "bp_na_to_k_means = df.groupby(\"BP\")[\"Na_to_K\"].mean()\n",
    "\n",
    "print(\"Average Na to K ratio by blood pressure category:\")\n",
    "print(bp_na_to_k_means)\n",
    "print(\"\\n\")\n",
    "\n",
    "# Check if NORMAL BP has highest Na_to_K ratio\n",
    "is_normal_highest = bp_na_to_k_means[\"NORMAL\"] > bp_na_to_k_means[[\"HIGH\", \"LOW\"]].max()\n",
    "\n",
    "if is_normal_highest:\n",
    "    print(\"People with NORMAL blood pressure have the highest average Na to K ratio\")\n",
    "else:\n",
    "    print(\"People with NORMAL blood pressure do NOT have the highest average Na to K ratio\")\n",
    "\n",
    "# Visualize the comparison\n",
    "plt.figure(figsize=(10, 6))\n",
    "bp_na_to_k_means.plot(kind=\"bar\")\n",
    "plt.title(\"Average Na to K Ratio by Blood Pressure Category\")\n",
    "plt.xlabel(\"Blood Pressure Category\")\n",
    "plt.ylabel(\"Average Na to K Ratio\")\n",
    "plt.xticks(rotation=45)\n",
    "plt.tight_layout()\n",
    "plt.show()\n"
   ]
  },
  {
   "cell_type": "markdown",
   "metadata": {},
   "source": [
    "#### Encode categorical features (`Sex`, `Cholesterol`, `BP`) to numbers.\n",
    "Use the following rules:\n",
    "```\n",
    "- 'Sex': M = 0, F = 1\n",
    "- 'Cholesterol': NORMAL = 0, HIGH = 1\n",
    "- 'BP': LOW = -1, NORMAL = 0, HIGH = 1\n",
    "```"
   ]
  },
  {
   "cell_type": "code",
   "execution_count": 52,
   "metadata": {},
   "outputs": [
    {
     "name": "stdout",
     "output_type": "stream",
     "text": [
      "First few rows of encoded dataframe:\n",
      "   Age  Sex  BP  Cholesterol  Na_to_K   Drug\n",
      "0   23    1   1            1   25.355  DrugY\n",
      "1   47    0  -1            1   13.093  drugC\n",
      "2   47    0  -1            1   10.114  drugC\n",
      "3   28    1   0            1    7.798  drugX\n",
      "4   61    1  -1            1   18.043  DrugY\n"
     ]
    }
   ],
   "source": [
    "df[\"Sex\"] = df[\"Sex\"].map({\"M\": 0, \"F\": 1})\n",
    "df[\"Cholesterol\"] = df[\"Cholesterol\"].map({\"NORMAL\": 0, \"HIGH\": 1})\n",
    "df[\"BP\"] = df[\"BP\"].map({\"LOW\": -1, \"NORMAL\": 0, \"HIGH\": 1})\n",
    "print(\"First few rows of encoded dataframe:\")\n",
    "print(df.head())\n"
   ]
  },
  {
   "cell_type": "markdown",
   "metadata": {},
   "source": [
    "#### Use `Drug` as a target and other features as predictors. Split the data with stratification by target."
   ]
  },
  {
   "cell_type": "code",
   "execution_count": 53,
   "metadata": {},
   "outputs": [
    {
     "name": "stdout",
     "output_type": "stream",
     "text": [
      "Number of drugA samples in the test set: 6\n"
     ]
    }
   ],
   "source": [
    "from sklearn.model_selection import train_test_split\n",
    "\n",
    "# Split the data with stratification by target\n",
    "X = df.drop(\"Drug\", axis=1)\n",
    "y = df[\"Drug\"]\n",
    "\n",
    "X_train, X_test, y_train, y_test = train_test_split(X, y, random_state=85, stratify=y)\n",
    "drug_a_count = y_test.value_counts()[\"drugA\"]\n",
    "print(f\"Number of drugA samples in the test set: {drug_a_count}\")\n"
   ]
  },
  {
   "cell_type": "markdown",
   "metadata": {},
   "source": [
    "#### Fit StandardScaler on train data, and then transform train and test data."
   ]
  },
  {
   "cell_type": "code",
   "execution_count": 54,
   "metadata": {},
   "outputs": [
    {
     "name": "stdout",
     "output_type": "stream",
     "text": [
      "First few rows of scaled training data:\n",
      "[[-1.76688399  1.040833    1.12641512 -0.97367959 -0.09408193]\n",
      " [ 0.13805701 -0.96076892 -1.2702128   1.0270319  -0.41529182]\n",
      " [-0.78368863  1.040833   -0.07189884  1.0270319  -1.1597882 ]\n",
      " [-1.27528631 -0.96076892 -0.07189884  1.0270319   1.26738136]\n",
      " [ 0.38385585 -0.96076892  1.12641512  1.0270319   0.27432182]]\n"
     ]
    }
   ],
   "source": [
    "from sklearn.preprocessing import StandardScaler\n",
    "\n",
    "scaler = StandardScaler()\n",
    "X_train_scaled = scaler.fit_transform(X_train)\n",
    "X_test_scaled = scaler.transform(X_test)\n",
    "\n",
    "print(\"First few rows of scaled training data:\")\n",
    "print(X_train_scaled[:5])\n"
   ]
  },
  {
   "cell_type": "markdown",
   "metadata": {},
   "source": [
    "#### Fit KNN classifier on non-scaled data. (`non-scaled model`)"
   ]
  },
  {
   "cell_type": "code",
   "execution_count": 55,
   "metadata": {},
   "outputs": [
    {
     "name": "stdout",
     "output_type": "stream",
     "text": [
      "Non-scaled model training score: 0.813\n",
      "Non-scaled model test score: 0.680\n"
     ]
    }
   ],
   "source": [
    "from sklearn.neighbors import KNeighborsClassifier\n",
    "\n",
    "non_scaled_model = KNeighborsClassifier()\n",
    "non_scaled_model.fit(X_train, y_train)\n",
    "\n",
    "print(f\"Non-scaled model training score: {non_scaled_model.score(X_train, y_train):.3f}\")\n",
    "print(f\"Non-scaled model test score: {non_scaled_model.score(X_test, y_test):.3f}\")\n"
   ]
  },
  {
   "cell_type": "markdown",
   "metadata": {},
   "source": [
    "#### Fit KNN classifier on scaled data. (`scaled model`)"
   ]
  },
  {
   "cell_type": "code",
   "execution_count": 56,
   "metadata": {},
   "outputs": [
    {
     "name": "stdout",
     "output_type": "stream",
     "text": [
      "Scaled model training score: 0.887\n",
      "Scaled model test score: 0.760\n"
     ]
    }
   ],
   "source": [
    "scaled_model = KNeighborsClassifier()\n",
    "scaled_model.fit(X_train_scaled, y_train)\n",
    "\n",
    "print(f\"Scaled model training score: {scaled_model.score(X_train_scaled, y_train):.3f}\")\n",
    "print(f\"Scaled model test score: {scaled_model.score(X_test_scaled, y_test):.3f}\")\n"
   ]
  },
  {
   "cell_type": "markdown",
   "metadata": {},
   "source": [
    "#### Get predictions on test data for all models."
   ]
  },
  {
   "cell_type": "code",
   "execution_count": 57,
   "metadata": {},
   "outputs": [],
   "source": [
    "from sklearn.metrics import ConfusionMatrixDisplay\n",
    "\n",
    "y_pred_non_scaled = non_scaled_model.predict(X_test)\n",
    "y_pred_scaled = scaled_model.predict(X_test_scaled)"
   ]
  },
  {
   "cell_type": "markdown",
   "metadata": {},
   "source": [
    "#### Calculate accuracy, micro and macro recalls and precisions for both models."
   ]
  },
  {
   "cell_type": "code",
   "execution_count": 58,
   "metadata": {},
   "outputs": [
    {
     "name": "stdout",
     "output_type": "stream",
     "text": [
      "Non-scaled model metrics:\n",
      "Accuracy: 0.680\n",
      "Micro-averaged precision: 0.680\n",
      "Macro-averaged precision: 0.544\n",
      "Micro-averaged recall: 0.680\n",
      "Macro-averaged recall: 0.568\n",
      "\n",
      "Scaled model metrics:\n",
      "Accuracy: 0.760\n",
      "Micro-averaged precision: 0.760\n",
      "Macro-averaged precision: 0.717\n",
      "Micro-averaged recall: 0.760\n",
      "Macro-averaged recall: 0.782\n"
     ]
    }
   ],
   "source": [
    "from sklearn.metrics import accuracy_score, precision_score, recall_score\n",
    "\n",
    "# Calculate metrics for non-scaled model\n",
    "non_scaled_accuracy = accuracy_score(y_test, y_pred_non_scaled)\n",
    "non_scaled_precision_micro = precision_score(y_test, y_pred_non_scaled, average=\"micro\")\n",
    "non_scaled_precision_macro = precision_score(y_test, y_pred_non_scaled, average=\"macro\")\n",
    "non_scaled_recall_micro = recall_score(y_test, y_pred_non_scaled, average=\"micro\")\n",
    "non_scaled_recall_macro = recall_score(y_test, y_pred_non_scaled, average=\"macro\")\n",
    "\n",
    "# Calculate metrics for scaled model\n",
    "scaled_accuracy = accuracy_score(y_test, y_pred_scaled)\n",
    "scaled_precision_micro = precision_score(y_test, y_pred_scaled, average=\"micro\")\n",
    "scaled_precision_macro = precision_score(y_test, y_pred_scaled, average=\"macro\")\n",
    "scaled_recall_micro = recall_score(y_test, y_pred_scaled, average=\"micro\")\n",
    "scaled_recall_macro = recall_score(y_test, y_pred_scaled, average=\"macro\")\n",
    "\n",
    "print(\"Non-scaled model metrics:\")\n",
    "print(f\"Accuracy: {non_scaled_accuracy:.3f}\")\n",
    "print(f\"Micro-averaged precision: {non_scaled_precision_micro:.3f}\")\n",
    "print(f\"Macro-averaged precision: {non_scaled_precision_macro:.3f}\")\n",
    "print(f\"Micro-averaged recall: {non_scaled_recall_micro:.3f}\")\n",
    "print(f\"Macro-averaged recall: {non_scaled_recall_macro:.3f}\")\n",
    "print(\"\\nScaled model metrics:\")\n",
    "print(f\"Accuracy: {scaled_accuracy:.3f}\")\n",
    "print(f\"Micro-averaged precision: {scaled_precision_micro:.3f}\")\n",
    "print(f\"Macro-averaged precision: {scaled_precision_macro:.3f}\")\n",
    "print(f\"Micro-averaged recall: {scaled_recall_micro:.3f}\")\n",
    "print(f\"Macro-averaged recall: {scaled_recall_macro:.3f}\")\n"
   ]
  },
  {
   "cell_type": "markdown",
   "metadata": {},
   "source": [
    "#### Confusion matrix for `non-scaled` model."
   ]
  },
  {
   "cell_type": "code",
   "execution_count": 59,
   "metadata": {},
   "outputs": [
    {
     "data": {
      "text/plain": [
       "<sklearn.metrics._plot.confusion_matrix.ConfusionMatrixDisplay at 0x1a04ce348d0>"
      ]
     },
     "execution_count": 59,
     "metadata": {},
     "output_type": "execute_result"
    },
    {
     "data": {
      "image/png": "[encoded data removed]",
      "text/plain": [
       "<Figure size 640x480 with 2 Axes>"
      ]
     },
     "metadata": {},
     "output_type": "display_data"
    }
   ],
   "source": [
    "ConfusionMatrixDisplay.from_predictions(y_test, y_pred_non_scaled, cmap=\"Blues\")"
   ]
  },
  {
   "cell_type": "markdown",
   "metadata": {},
   "source": [
    "#### Confusion matrix for `scaled` model."
   ]
  },
  {
   "cell_type": "code",
   "execution_count": 60,
   "metadata": {},
   "outputs": [
    {
     "data": {
      "text/plain": [
       "<sklearn.metrics._plot.confusion_matrix.ConfusionMatrixDisplay at 0x1a04cd33950>"
      ]
     },
     "execution_count": 60,
     "metadata": {},
     "output_type": "execute_result"
    },
    {
     "data": {
      "image/png": "[encoded data removed]",
      "text/plain": [
       "<Figure size 640x480 with 2 Axes>"
      ]
     },
     "metadata": {},
     "output_type": "display_data"
    }
   ],
   "source": [
    "ConfusionMatrixDisplay.from_predictions(y_test, y_pred_scaled, cmap=\"Blues\")"
   ]
  }
 ],
 "metadata": {
  "kernelspec": {
   "display_name": ".venv",
   "language": "python",
   "name": "python3"
  },
  "language_info": {
   "codemirror_mode": {
    "name": "ipython",
    "version": 3
   },
   "file_extension": ".py",
   "mimetype": "text/x-python",
   "name": "python",
   "nbconvert_exporter": "python",
   "pygments_lexer": "ipython3",
   "version": "3.11.12"
  }
 },
 "nbformat": 4,
 "nbformat_minor": 2
}
